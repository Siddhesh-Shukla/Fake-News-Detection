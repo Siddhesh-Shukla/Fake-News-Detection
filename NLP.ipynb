{
  "nbformat": 4,
  "nbformat_minor": 0,
  "metadata": {
    "colab": {
      "name": "NLP.ipynb",
      "provenance": [],
      "collapsed_sections": [],
      "include_colab_link": true
    },
    "kernelspec": {
      "name": "python3",
      "display_name": "Python 3"
    },
    "language_info": {
      "name": "python"
    },
    "accelerator": "GPU"
  },
  "cells": [
    {
      "cell_type": "markdown",
      "metadata": {
        "id": "view-in-github",
        "colab_type": "text"
      },
      "source": [
        "<a href=\"https://colab.research.google.com/github/mveer1/Fake-News-Detection/blob/main/NLP.ipynb\" target=\"_parent\"><img src=\"https://colab.research.google.com/assets/colab-badge.svg\" alt=\"Open In Colab\"/></a>"
      ]
    },
    {
      "cell_type": "code",
      "metadata": {
        "colab": {
          "base_uri": "https://localhost:8080/"
        },
        "id": "H6MomgEFQk3g",
        "outputId": "5dd1b352-f44e-4424-f556-15634702ea32"
      },
      "source": [
        "try:\n",
        "    %cd /content\n",
        "    !git clone https://github.com/mveer1/Fake-News-Detection.git \n",
        "except:\n",
        "    !rm -r /content/Fake-News-Detection\n",
        "    !git clone https://github.com/mveer1/Fake-News-Detection.git \n",
        "\n",
        "# !git clone https://github.com/mveer1/Fake-News-Detection.git"
      ],
      "execution_count": null,
      "outputs": [
        {
          "output_type": "stream",
          "name": "stdout",
          "text": [
            "/content\n",
            "Cloning into 'Fake-News-Detection'...\n",
            "remote: Enumerating objects: 63, done.\u001b[K\n",
            "remote: Counting objects: 100% (63/63), done.\u001b[K\n",
            "remote: Compressing objects: 100% (44/44), done.\u001b[K\n",
            "remote: Total 63 (delta 23), reused 44 (delta 16), pack-reused 0\u001b[K\n",
            "Unpacking objects: 100% (63/63), done.\n"
          ]
        }
      ]
    },
    {
      "cell_type": "code",
      "metadata": {
        "id": "Yb0XsrN_-kDq"
      },
      "source": [
        "# !rm -r /content/Fake-News-Detection"
      ],
      "execution_count": null,
      "outputs": []
    },
    {
      "cell_type": "code",
      "metadata": {
        "colab": {
          "base_uri": "https://localhost:8080/"
        },
        "id": "U7QlUy5I-bTH",
        "outputId": "ee71c021-1361-479d-8308-8c10be1c77f3"
      },
      "source": [
        "%cd /content/Fake-News-Detection/"
      ],
      "execution_count": null,
      "outputs": [
        {
          "output_type": "stream",
          "name": "stdout",
          "text": [
            "/content/Fake-News-Detection\n"
          ]
        }
      ]
    },
    {
      "cell_type": "code",
      "metadata": {
        "colab": {
          "base_uri": "https://localhost:8080/"
        },
        "id": "ByTRY6VRRknc",
        "outputId": "0697f3a8-f079-48be-83e7-c90af9a8c724"
      },
      "source": [
        "import os\n",
        "os.chdir(\"/content/Fake-News-Detection/\")\n",
        "!pwd"
      ],
      "execution_count": null,
      "outputs": [
        {
          "output_type": "stream",
          "name": "stdout",
          "text": [
            "/content/Fake-News-Detection\n"
          ]
        }
      ]
    },
    {
      "cell_type": "markdown",
      "metadata": {
        "id": "GpJecoo7WmI5"
      },
      "source": [
        "future==0.17.1\n",
        "h5py\n",
        "Keras\n",
        "Keras-Applications\n",
        "Keras-Preprocessing\n",
        "matplotlib\n",
        "nvidia-ml-py\n",
        "pandas\n",
        "python-apt\n",
        "python-dateutil==2.8.0\n",
        "python-debian\n",
        "python-slugify==3.0.3\n",
        "python-systemd\n",
        "pytorch-pretrained-bert\n",
        "pytorch-transformers==1.0.0\n",
        "scikit-image==0.14.2\n",
        "scikit-learn==0.20.2\n",
        "scipy\n",
        "seaborn==0.9.0\n",
        "six\n",
        "sympy==1.4\n",
        "tqdm"
      ]
    },
    {
      "cell_type": "code",
      "metadata": {
        "colab": {
          "base_uri": "https://localhost:8080/"
        },
        "id": "Gh53mu70RrV3",
        "outputId": "fc167896-bd38-41ba-e675-07ae51b09e81"
      },
      "source": [
        "!pip install -r requirements.txt"
      ],
      "execution_count": null,
      "outputs": [
        {
          "output_type": "stream",
          "name": "stdout",
          "text": [
            "Requirement already satisfied: future==0.17.1 in /usr/local/lib/python3.7/dist-packages (from -r requirements.txt (line 1)) (0.17.1)\n",
            "Requirement already satisfied: h5py in /usr/local/lib/python3.7/dist-packages (from -r requirements.txt (line 2)) (3.1.0)\n",
            "Requirement already satisfied: Keras in /usr/local/lib/python3.7/dist-packages (from -r requirements.txt (line 3)) (2.7.0)\n",
            "Requirement already satisfied: Keras-Applications in /usr/local/lib/python3.7/dist-packages (from -r requirements.txt (line 4)) (1.0.8)\n",
            "Requirement already satisfied: Keras-Preprocessing in /usr/local/lib/python3.7/dist-packages (from -r requirements.txt (line 5)) (1.1.2)\n",
            "Requirement already satisfied: matplotlib in /usr/local/lib/python3.7/dist-packages (from -r requirements.txt (line 6)) (3.2.2)\n",
            "Requirement already satisfied: nvidia-ml-py in /usr/local/lib/python3.7/dist-packages (from -r requirements.txt (line 7)) (11.495.46)\n",
            "Requirement already satisfied: pandas in /usr/local/lib/python3.7/dist-packages (from -r requirements.txt (line 8)) (1.1.5)\n",
            "Requirement already satisfied: python-apt in /usr/local/lib/python3.7/dist-packages (from -r requirements.txt (line 9)) (0.0.0)\n",
            "Requirement already satisfied: python-dateutil==2.8.0 in /usr/local/lib/python3.7/dist-packages (from -r requirements.txt (line 10)) (2.8.0)\n",
            "Requirement already satisfied: python-debian in /usr/local/lib/python3.7/dist-packages (from -r requirements.txt (line 11)) (0.1.42)\n",
            "Requirement already satisfied: python-slugify==3.0.3 in /usr/local/lib/python3.7/dist-packages (from -r requirements.txt (line 12)) (3.0.3)\n",
            "Requirement already satisfied: python-systemd in /usr/local/lib/python3.7/dist-packages (from -r requirements.txt (line 13)) (0.0.9)\n",
            "Requirement already satisfied: pytorch-pretrained-bert in /usr/local/lib/python3.7/dist-packages (from -r requirements.txt (line 14)) (0.6.2)\n",
            "Requirement already satisfied: pytorch-transformers==1.0.0 in /usr/local/lib/python3.7/dist-packages (from -r requirements.txt (line 15)) (1.0.0)\n",
            "Requirement already satisfied: scikit-image==0.14.2 in /usr/local/lib/python3.7/dist-packages (from -r requirements.txt (line 16)) (0.14.2)\n",
            "Requirement already satisfied: scikit-learn==0.20.2 in /usr/local/lib/python3.7/dist-packages (from -r requirements.txt (line 17)) (0.20.2)\n",
            "Requirement already satisfied: scipy in /usr/local/lib/python3.7/dist-packages (from -r requirements.txt (line 18)) (1.4.1)\n",
            "Requirement already satisfied: seaborn==0.9.0 in /usr/local/lib/python3.7/dist-packages (from -r requirements.txt (line 19)) (0.9.0)\n",
            "Requirement already satisfied: six in /usr/local/lib/python3.7/dist-packages (from -r requirements.txt (line 20)) (1.15.0)\n",
            "Requirement already satisfied: sympy==1.4 in /usr/local/lib/python3.7/dist-packages (from -r requirements.txt (line 21)) (1.4)\n",
            "Requirement already satisfied: tqdm in /usr/local/lib/python3.7/dist-packages (from -r requirements.txt (line 22)) (4.62.3)\n",
            "Requirement already satisfied: text-unidecode==1.2 in /usr/local/lib/python3.7/dist-packages (from python-slugify==3.0.3->-r requirements.txt (line 12)) (1.2)\n",
            "Requirement already satisfied: torch>=0.4.1 in /usr/local/lib/python3.7/dist-packages (from pytorch-transformers==1.0.0->-r requirements.txt (line 15)) (1.10.0+cu111)\n",
            "Requirement already satisfied: sentencepiece in /usr/local/lib/python3.7/dist-packages (from pytorch-transformers==1.0.0->-r requirements.txt (line 15)) (0.1.96)\n",
            "Requirement already satisfied: requests in /usr/local/lib/python3.7/dist-packages (from pytorch-transformers==1.0.0->-r requirements.txt (line 15)) (2.23.0)\n",
            "Requirement already satisfied: boto3 in /usr/local/lib/python3.7/dist-packages (from pytorch-transformers==1.0.0->-r requirements.txt (line 15)) (1.20.20)\n",
            "Requirement already satisfied: regex in /usr/local/lib/python3.7/dist-packages (from pytorch-transformers==1.0.0->-r requirements.txt (line 15)) (2019.12.20)\n",
            "Requirement already satisfied: numpy in /usr/local/lib/python3.7/dist-packages (from pytorch-transformers==1.0.0->-r requirements.txt (line 15)) (1.19.5)\n",
            "Requirement already satisfied: PyWavelets>=0.4.0 in /usr/local/lib/python3.7/dist-packages (from scikit-image==0.14.2->-r requirements.txt (line 16)) (1.2.0)\n",
            "Requirement already satisfied: cloudpickle>=0.2.1 in /usr/local/lib/python3.7/dist-packages (from scikit-image==0.14.2->-r requirements.txt (line 16)) (1.3.0)\n",
            "Requirement already satisfied: pillow>=4.3.0 in /usr/local/lib/python3.7/dist-packages (from scikit-image==0.14.2->-r requirements.txt (line 16)) (7.1.2)\n",
            "Requirement already satisfied: networkx>=1.8 in /usr/local/lib/python3.7/dist-packages (from scikit-image==0.14.2->-r requirements.txt (line 16)) (2.6.3)\n",
            "Requirement already satisfied: dask[array]>=1.0.0 in /usr/local/lib/python3.7/dist-packages (from scikit-image==0.14.2->-r requirements.txt (line 16)) (2.12.0)\n",
            "Requirement already satisfied: mpmath>=0.19 in /usr/local/lib/python3.7/dist-packages (from sympy==1.4->-r requirements.txt (line 21)) (1.2.1)\n",
            "Requirement already satisfied: pyparsing!=2.0.4,!=2.1.2,!=2.1.6,>=2.0.1 in /usr/local/lib/python3.7/dist-packages (from matplotlib->-r requirements.txt (line 6)) (3.0.6)\n",
            "Requirement already satisfied: kiwisolver>=1.0.1 in /usr/local/lib/python3.7/dist-packages (from matplotlib->-r requirements.txt (line 6)) (1.3.2)\n",
            "Requirement already satisfied: cycler>=0.10 in /usr/local/lib/python3.7/dist-packages (from matplotlib->-r requirements.txt (line 6)) (0.11.0)\n",
            "Requirement already satisfied: pytz>=2017.2 in /usr/local/lib/python3.7/dist-packages (from pandas->-r requirements.txt (line 8)) (2018.9)\n",
            "Requirement already satisfied: toolz>=0.7.3 in /usr/local/lib/python3.7/dist-packages (from dask[array]>=1.0.0->scikit-image==0.14.2->-r requirements.txt (line 16)) (0.11.2)\n",
            "Requirement already satisfied: typing-extensions in /usr/local/lib/python3.7/dist-packages (from torch>=0.4.1->pytorch-transformers==1.0.0->-r requirements.txt (line 15)) (3.10.0.2)\n",
            "Requirement already satisfied: cached-property in /usr/local/lib/python3.7/dist-packages (from h5py->-r requirements.txt (line 2)) (1.5.2)\n",
            "Requirement already satisfied: chardet in /usr/local/lib/python3.7/dist-packages (from python-debian->-r requirements.txt (line 11)) (3.0.4)\n",
            "Requirement already satisfied: s3transfer<0.6.0,>=0.5.0 in /usr/local/lib/python3.7/dist-packages (from boto3->pytorch-transformers==1.0.0->-r requirements.txt (line 15)) (0.5.0)\n",
            "Requirement already satisfied: jmespath<1.0.0,>=0.7.1 in /usr/local/lib/python3.7/dist-packages (from boto3->pytorch-transformers==1.0.0->-r requirements.txt (line 15)) (0.10.0)\n",
            "Requirement already satisfied: botocore<1.24.0,>=1.23.20 in /usr/local/lib/python3.7/dist-packages (from boto3->pytorch-transformers==1.0.0->-r requirements.txt (line 15)) (1.23.20)\n",
            "Requirement already satisfied: urllib3<1.27,>=1.25.4 in /usr/local/lib/python3.7/dist-packages (from botocore<1.24.0,>=1.23.20->boto3->pytorch-transformers==1.0.0->-r requirements.txt (line 15)) (1.25.11)\n",
            "Requirement already satisfied: certifi>=2017.4.17 in /usr/local/lib/python3.7/dist-packages (from requests->pytorch-transformers==1.0.0->-r requirements.txt (line 15)) (2021.10.8)\n",
            "Requirement already satisfied: idna<3,>=2.5 in /usr/local/lib/python3.7/dist-packages (from requests->pytorch-transformers==1.0.0->-r requirements.txt (line 15)) (2.10)\n"
          ]
        }
      ]
    },
    {
      "cell_type": "code",
      "metadata": {
        "colab": {
          "base_uri": "https://localhost:8080/"
        },
        "id": "CUJLOOiw8aWh",
        "outputId": "36f2f747-1a9a-4f56-966d-d281d9616f48"
      },
      "source": [
        "from google.colab import drive\n",
        "drive.mount('/content/drive')"
      ],
      "execution_count": null,
      "outputs": [
        {
          "output_type": "stream",
          "name": "stdout",
          "text": [
            "Mounted at /content/drive\n"
          ]
        }
      ]
    },
    {
      "cell_type": "code",
      "metadata": {
        "id": "I9zASN1D8mlp"
      },
      "source": [
        "!cp '/content/drive/MyDrive/NLP/triBERT.pth' '/content/Fake-News-Detection/'"
      ],
      "execution_count": null,
      "outputs": []
    },
    {
      "cell_type": "code",
      "metadata": {
        "colab": {
          "base_uri": "https://localhost:8080/"
        },
        "id": "9vqrT5JXSRPZ",
        "outputId": "6124e564-60af-4df4-df26-f654ed54c48f"
      },
      "source": [
        "!python3 FakeNewsDetection.py -num_labels 6 -num_epochs 3 -load_model False"
      ],
      "execution_count": null,
      "outputs": [
        {
          "output_type": "stream",
          "name": "stdout",
          "text": [
            "/usr/local/lib/python3.7/dist-packages/statsmodels/tools/_testing.py:19: FutureWarning: pandas.util.testing is deprecated. Use the functions in the public API at pandas.testing instead.\n",
            "  import pandas.util.testing as tm\n",
            "INFO:pytorch_pretrained_bert.tokenization:loading vocabulary file https://s3.amazonaws.com/models.huggingface.co/bert/bert-base-uncased-vocab.txt from cache at /root/.pytorch_pretrained_bert/26bc1ad6c0ac742e9b52263248f6d0f00068293b33709fae12320c0e35ccfbbb.542ce4285a40d23a559526243235df47c5f75c197f04f37d1a0c124c32c9a084\n",
            "INFO:pytorch_pretrained_bert.modeling:loading archive file https://s3.amazonaws.com/models.huggingface.co/bert/bert-base-uncased.tar.gz from cache at /root/.pytorch_pretrained_bert/9c41111e2de84547a463fd39217199738d1e3deb72d4fec4399e6e241983c6f0.ae3cef932725ca7a30cdcb93fc6e09150a55e2a130ec7af63975a16c153ae2ba\n",
            "INFO:pytorch_pretrained_bert.modeling:extracting archive file /root/.pytorch_pretrained_bert/9c41111e2de84547a463fd39217199738d1e3deb72d4fec4399e6e241983c6f0.ae3cef932725ca7a30cdcb93fc6e09150a55e2a130ec7af63975a16c153ae2ba to temp dir /tmp/tmpnenb59jc\n",
            "INFO:pytorch_pretrained_bert.modeling:Model config {\n",
            "  \"attention_probs_dropout_prob\": 0.1,\n",
            "  \"hidden_act\": \"gelu\",\n",
            "  \"hidden_dropout_prob\": 0.1,\n",
            "  \"hidden_size\": 768,\n",
            "  \"initializer_range\": 0.02,\n",
            "  \"intermediate_size\": 3072,\n",
            "  \"max_position_embeddings\": 512,\n",
            "  \"num_attention_heads\": 12,\n",
            "  \"num_hidden_layers\": 12,\n",
            "  \"type_vocab_size\": 2,\n",
            "  \"vocab_size\": 30522\n",
            "}\n",
            "\n",
            "cuda:0\n",
            "Dataloader : <torch.utils.data.dataloader.DataLoader object at 0x7fda25642a90> \n",
            "New statement input : tensor([[ 2311,  1037,  2813,  ...,     0,     0,     0],\n",
            "        [ 5273,  2003,  2006,  ...,     0,     0,     0],\n",
            "        [ 2758,  2198, 19186,  ...,     0,     0,     0],\n",
            "        ...,\n",
            "        [ 2758,  5401,  3867,  ...,     0,     0,     0],\n",
            "        [ 2006, 14079,  5918,  ...,     0,     0,     0],\n",
            "        [ 2758,  1996, 12163,  ...,     0,     0,     0]])\n",
            "Justification input : tensor([[ 2311,  1037,  2813,  ...,     0,     0,     0],\n",
            "        [ 5273,  2003,  2006,  ...,     0,     0,     0],\n",
            "        [ 2758,  2198, 19186,  ...,     0,     0,     0],\n",
            "        ...,\n",
            "        [ 2758,  5401,  3867,  ...,     0,     0,     0],\n",
            "        [ 2006, 14079,  5918,  ...,     0,     0,     0],\n",
            "        [ 2758,  1996, 12163,  ...,     0,     0,     0]])\n",
            "Meta data input : tensor([[11324,  1040,  4576,  2638,  1011,  8945,  3270,  2278,  2110,  4387,\n",
            "          3146,  3951,  1037,  5653,  2121,     0,     0,     0,     0,     0,\n",
            "             0,     0,     0,     0,     0,     0,     0,     0,     0,     0,\n",
            "             0,     0],\n",
            "        [ 2943,  1010,  2381,  1010,  3105,  1011, 17571,  3660,  1011,  7505,\n",
            "         21818,  3363,  2110, 11849,  3448,  7672,  1037,  2723,  4613,  1012,\n",
            "             0,     0,     0,     0,     0,     0,     0,     0,     0,     0,\n",
            "             0,     0],\n",
            "        [ 3097,  1011,  3343, 13857,  1011,  8112,  2343,  4307,  7672,  7573,\n",
            "             0,     0,     0,     0,     0,     0,     0,     0,     0,     0,\n",
            "             0,     0,     0,     0,     0,     0,     0,     0,     0,     0,\n",
            "             0,     0],\n",
            "        [ 2740,  1011,  2729,  9927,  1011, 14739,  3904,  3904,  3904,  1037,\n",
            "          2739,  2713,     0,     0,     0,     0,     0,     0,     0,     0,\n",
            "             0,     0,     0,     0,     0,     0,     0,     0,     0,     0,\n",
            "             0,     0],\n",
            "        [ 4610,  1010,  5841,  4918,  1011, 13675,  2923,  3904,  3516,  7672,\n",
            "          2019,  4357,  2006, 13229,     0,     0,     0,     0,     0,     0,\n",
            "             0,     0,     0,     0,     0,     0,     0,     0,     0,     0,\n",
            "             0,     0],\n",
            "        [ 2495,  5863,  1011, 29536,  2015,  5273,  3320,  5882,  5273,  3951,\n",
            "          1037,  2019,  3784,  5448,  1011,  3538,     0,     0,     0,     0,\n",
            "             0,     0,     0,     0,     0,     0,     0,     0,     0,     0,\n",
            "             0,     0],\n",
            "        [ 5347,  1011,  8308,  3951,  1011,  2283,  1011,  3146,  3904,  3146,\n",
            "          3951,  1037,  2811,  2713,  1012,     0,     0,     0,     0,     0,\n",
            "             0,     0,     0,     0,     0,     0,     0,     0,     0,     0,\n",
            "             0,     0],\n",
            "        [ 9615, 13857,  1011,  8112,  2343,  4307,  7672,  1037,  3537,  5981,\n",
            "          1999,  4407,  1010,  6643,  1012,     0,     0,     0,     0,     0,\n",
            "             0,     0,     0,     0,     0,     0,     0,     0,     0,     0,\n",
            "             0,     0],\n",
            "        [ 5841,  5392,  1011, 15213,  3904,  3904,  3029,  1037,  4037,     0,\n",
            "             0,     0,     0,     0,     0,     0,     0,     0,     0,     0,\n",
            "             0,     0,     0,     0,     0,     0,     0,     0,     0,     0,\n",
            "             0,     0],\n",
            "        [ 2943,  1010,  4471,  1011,  3698,  1011,  2297,  1010,  6830,  1011,\n",
            "          2501,  2349,  2100,  1011,  2358,  3217, 15878,  2884,  2110,  4387,\n",
            "          5273,  3951,  2019,  3784,  2678,     0,     0,     0,     0,     0,\n",
            "             0,     0],\n",
            "        [ 3864,  2728,  1011,  2273, 28787,  1057,  1012,  1055,  1012,  5205,\n",
            "          2047,  3933,  7672,  1037,  4613,     0,     0,     0,     0,     0,\n",
            "             0,     0,     0,     0,     0,     0,     0,     0,     0,     0,\n",
            "             0,     0],\n",
            "        [ 4610,  1010,  5841,  1010,  2047,  1011,  7035,  1011,  2262,  1010,\n",
            "          5635, 15941,  1011,  1055,  1057,  1012,  1055,  1012,  5205,  8839,\n",
            "          2981,  1037,  1056, 28394,  2102,     0,     0,     0,     0,     0,\n",
            "             0,     0],\n",
            "        [ 2381,  1010,  2110,  1011,  5166, 10210,  2102,  1011, 19615,  2280,\n",
            "          3099,  4404,  3951,  2019,  4357,  2007, 21824,  2739,     0,     0,\n",
            "             0,     0,     0,     0,     0,     0,     0,     0,     0,     0,\n",
            "             0,     0],\n",
            "        [ 4610,  1010,  2976,  1011,  5166,  1010,  2740,  1011,  2729, 20160,\n",
            "          5267,  4917,  3904,  3904,  3904,  1037, 20160,  5267,  4917,  6167,\n",
            "          1999,  1996,  4465,  5888,     0,     0,     0,     0,     0,     0,\n",
            "             0,     0],\n",
            "        [ 2740,  1011,  2729,  2577,  1011,  2097, 13317,  5374, 13317,  7928,\n",
            "          2006,  1000,  4419,  2739,  4465,  1000,     0,     0,     0,     0,\n",
            "             0,     0,     0,     0,     0,     0,     0,     0,     0,     0,\n",
            "             0,     0],\n",
            "        [ 3864, 15941,  1011,  1055,  1057,  1012,  1055,  1012,  5205,  8839,\n",
            "          2981,  1037,  2237,  2534,  1999,  5899,  1010,  3146,     0,     0,\n",
            "             0,     0,     0,     0,     0,     0,     0,     0,     0,     0,\n",
            "             0,     0]])\n",
            "Credit scores input : tensor([[0.6510, 0.6510, 0.6510,  ..., 0.6510, 0.6510, 0.6510],\n",
            "        [0.8000, 0.8000, 0.8000,  ..., 0.8000, 0.8000, 0.8000],\n",
            "        [0.7477, 0.7477, 0.7477,  ..., 0.7477, 0.7477, 0.7477],\n",
            "        ...,\n",
            "        [0.7702, 0.7702, 0.7702,  ..., 0.7702, 0.7702, 0.7702],\n",
            "        [0.6417, 0.6417, 0.6417,  ..., 0.6417, 0.6417, 0.6417],\n",
            "        [0.6849, 0.6849, 0.6849,  ..., 0.6849, 0.6849, 0.6849]])\n",
            "Fakeness : tensor([[1, 0, 0, 0, 0, 0],\n",
            "        [0, 0, 0, 0, 1, 0],\n",
            "        [0, 0, 0, 0, 1, 0],\n",
            "        [0, 0, 1, 0, 0, 0],\n",
            "        [0, 0, 0, 0, 0, 1],\n",
            "        [1, 0, 0, 0, 0, 0],\n",
            "        [1, 0, 0, 0, 0, 0],\n",
            "        [0, 0, 0, 1, 0, 0],\n",
            "        [1, 0, 0, 0, 0, 0],\n",
            "        [0, 0, 0, 1, 0, 0],\n",
            "        [0, 0, 0, 1, 0, 0],\n",
            "        [0, 0, 0, 1, 0, 0],\n",
            "        [0, 0, 0, 0, 0, 1],\n",
            "        [0, 0, 0, 0, 1, 0],\n",
            "        [0, 0, 1, 0, 0, 0],\n",
            "        [1, 0, 0, 0, 0, 0]])\n",
            "Traceback (most recent call last):\n",
            "  File \"FakeNewsDetection.py\", line 575, in <module>\n",
            "    test_model(model)\n",
            "  File \"FakeNewsDetection.py\", line 541, in test_model\n",
            "    output = F.softmax(model(inputs1, inputs2, inputs3, inputs4))\n",
            "  File \"/usr/local/lib/python3.7/dist-packages/torch/nn/modules/module.py\", line 1102, in _call_impl\n",
            "    return forward_call(*input, **kwargs)\n",
            "  File \"FakeNewsDetection.py\", line 320, in forward\n",
            "    output1 = self.forward_once(input_ids1, token_type_ids=None, attention_mask=None, labels=None)\n",
            "  File \"FakeNewsDetection.py\", line 312, in forward_once\n",
            "    _, pooled_output = self.bert(input_ids, token_type_ids, attention_mask, output_all_encoded_layers=False)\n",
            "  File \"/usr/local/lib/python3.7/dist-packages/torch/nn/modules/module.py\", line 1102, in _call_impl\n",
            "    return forward_call(*input, **kwargs)\n",
            "  File \"/usr/local/lib/python3.7/dist-packages/pytorch_pretrained_bert/modeling.py\", line 730, in forward\n",
            "    embedding_output = self.embeddings(input_ids, token_type_ids)\n",
            "  File \"/usr/local/lib/python3.7/dist-packages/torch/nn/modules/module.py\", line 1102, in _call_impl\n",
            "    return forward_call(*input, **kwargs)\n",
            "  File \"/usr/local/lib/python3.7/dist-packages/pytorch_pretrained_bert/modeling.py\", line 267, in forward\n",
            "    words_embeddings = self.word_embeddings(input_ids)\n",
            "  File \"/usr/local/lib/python3.7/dist-packages/torch/nn/modules/module.py\", line 1102, in _call_impl\n",
            "    return forward_call(*input, **kwargs)\n",
            "  File \"/usr/local/lib/python3.7/dist-packages/torch/nn/modules/sparse.py\", line 160, in forward\n",
            "    self.norm_type, self.scale_grad_by_freq, self.sparse)\n",
            "  File \"/usr/local/lib/python3.7/dist-packages/torch/nn/functional.py\", line 2044, in embedding\n",
            "    return torch.embedding(weight, input, padding_idx, scale_grad_by_freq, sparse)\n",
            "RuntimeError: Expected all tensors to be on the same device, but found at least two devices, cpu and cuda:0! (when checking argument for argument index in method wrapper__index_select)\n"
          ]
        }
      ]
    },
    {
      "cell_type": "code",
      "metadata": {
        "id": "I9YJ_HhOfotQ"
      },
      "source": [
        ""
      ],
      "execution_count": null,
      "outputs": []
    },
    {
      "cell_type": "code",
      "metadata": {
        "id": "27MDzzMtUZ93"
      },
      "source": [
        ""
      ],
      "execution_count": null,
      "outputs": []
    }
  ]
}